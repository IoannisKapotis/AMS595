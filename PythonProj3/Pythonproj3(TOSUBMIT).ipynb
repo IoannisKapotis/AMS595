{
  "cells": [
    {
      "cell_type": "markdown",
      "metadata": {
        "id": "xq__bChjD04e"
      },
      "source": [
        "# Python Assignment 3"
      ]
    },
    {
      "cell_type": "markdown",
      "metadata": {
        "id": "y7j2V0UDMYLG"
      },
      "source": [
        "⏱⏱⏱**Due: 11/02/2023 11:59 PM** ⏱⏱⏱\n",
        "\n",
        "Please submit your notebook files and upload them to your Git repository. Don't forget to include a link to your Git repository when submitting this file on Brightspace. **Please include all outputs in your notebook, including plots, printouts, etc..**\n",
        "\n",
        "Collaboration is permitted and encouraged; however, it's essential to independently produce and submit your own work. If you collaborate with others, please ensure that you provide their names in the designated section.\n",
        "\n",
        "Collaborators:_____"
      ]
    },
    {
      "cell_type": "markdown",
      "metadata": {
        "id": "SUS30Ew9D04n"
      },
      "source": [
        "##**For Questions 2a and 2b, you can choose one of them to complete, if you completed both, only Questions 2a will be graded.**\n",
        "\n",
        "**This assignment is out of 150 points; surplus points can be applied to other assignments (including Matlab and C/C++). However, it cannot be applied to your final project grade, and your assignment grade will not excced 75% of your total grade.**"
      ]
    },
    {
      "cell_type": "markdown",
      "metadata": {
        "id": "KR0Fl4yAQYad"
      },
      "source": [
        "## 1. Good presentation of your code and outputs; submitting your files to Github (10 pts)"
      ]
    },
    {
      "cell_type": "markdown",
      "metadata": {
        "id": "9WPZWhYQkptT"
      },
      "source": [
        "Ensure thorough and clear comments within your code to explain its functionality.\n",
        "\n",
        "Enhance your plots by adding titles, legends, and axis labels where appropriate to provide clarity.\n",
        "\n",
        "If necessary, employ LaTex notation to present mathematical explanations within the notebook.\n",
        "\n",
        "Divide your code into multiple blocks or cells in Jupyter Notebook and provide descriptive explanations for each block to improve readability.\n",
        "\n",
        "As part of your submission, **include the notebook files and upload them to your Git repository. Additionally, remember to provide a link to your Git repository when submitting the files on Brightspace.** Do not submit a compressed file (.rar, .zip, etc..), submit files separately.\n",
        "\n",
        "If you are tasked with implementing a numerical algorithm, it is expected that you would not rely on pre-existing methods. For example, if you were asked to solve $Ax=b$, you should write your own program to solve, not just by calling numpy.linalg.solve.\n",
        "\n"
      ]
    },
    {
      "cell_type": "markdown",
      "metadata": {
        "id": "U5SL2j0sqnAJ"
      },
      "source": [
        "## 2a. Numerical Integration (30 pts)"
      ]
    },
    {
      "cell_type": "markdown",
      "metadata": {
        "id": "OxwdE468rNAR"
      },
      "source": [
        "For a domain discretized into $N$ equally spaced panels:\n",
        "$$\n",
        "\\Delta x=\\frac{b-a}{N}.\n",
        "$$\n",
        "The approximation to the integral is\n",
        "$$\\begin{aligned}\n",
        "\\int_a^b f(x) d x & \\approx \\frac{\\Delta x}{2} \\sum_{k=1}^N\\left(f\\left(x_{k-1}\\right)+f\\left(x_k\\right)\\right) \\\\\n",
        "& =\\frac{\\Delta x}{2}\\left(f\\left(x_0\\right)+2 f\\left(x_1\\right)+2 f\\left(x_2\\right)+2 f\\left(x_3\\right)+\\cdots+2 f\\left(x_{N-1}\\right)+f\\left(x_N\\right)\\right) \\\\\n",
        "& =\\Delta x\\left(\\sum_{k=1}^{N-1} f\\left(x_k\\right)+\\frac{f\\left(x_N\\right)+f\\left(x_0\\right)}{2}\\right) .\n",
        "\\end{aligned}$$\n",
        "This is the trapezoid rule scheme.\n",
        "\n",
        "\n",
        "Given the function $f(x) = 3x^2 + 2x +2$, your tasks are:\n",
        "\n",
        "1. Carry out the integration symbolically using the SymPy library. Output the result (i.e. print out the result).\n",
        "2. Implement the trapezoid rule to estimate the integral $\\int_{-4}^6 f(x) dx$ using the following values of $N = 10, 20, 40, 80, 160, 320, 640, 1280$. Output the results (i.e. print out the results).\n",
        "3. Plot the absolute error (absolute difference between the numerical approximation and the SymPy result) against N.\n",
        "\n",
        "\n",
        "\n"
      ]
    },
    {
      "cell_type": "code",
      "execution_count": 2,
      "metadata": {},
      "outputs": [
        {
          "name": "stdout",
          "output_type": "stream",
          "text": [
            "Integral of f:\n"
          ]
        },
        {
          "data": {
            "text/latex": [
              "$\\displaystyle x^{3} + x^{2} + 2 x$"
            ],
            "text/plain": [
              "x**3 + x**2 + 2*x"
            ]
          },
          "metadata": {},
          "output_type": "display_data"
        },
        {
          "name": "stdout",
          "output_type": "stream",
          "text": [
            "evaluated at bounds: 320\n"
          ]
        }
      ],
      "source": [
        "import numpy as np\n",
        "import matplotlib.pyplot as plt\n",
        "from sympy import *\n",
        "\n",
        "# Declare x as a symbol, and set f(x)\n",
        "x = Symbol('x')\n",
        "f = 3*x**2 + 2*x +2\n",
        "\n",
        "# Indefinite and Definite integral\n",
        "intf = integrate(f,x)\n",
        "dintf = integrate(f,(x,-4,6))\n",
        "\n",
        "#Display the results\n",
        "print(\"Integral of f:\")\n",
        "display(intf)\n",
        "print('evaluated at bounds:', dintf)"
      ]
    },
    {
      "cell_type": "code",
      "execution_count": 3,
      "metadata": {},
      "outputs": [
        {
          "name": "stdout",
          "output_type": "stream",
          "text": [
            "[325.000000000000, 321.250000000000, 320.312500000000, 320.078125000000, 320.019531250000, 320.004882812500, 320.001220703125, 320.000305175781]\n"
          ]
        }
      ],
      "source": [
        "steps =  [10,20,40,80,160,320,640,1280] # Holds values of N\n",
        "R = []\n",
        "l=0\n",
        "# Splits the domain into N points, evaluates f at each x value, and finds the area of each trapezoid\n",
        "while l <= len(steps)-1:\n",
        "    N = steps[l] #Grab value of N\n",
        "    heights = []\n",
        "    deltx = 10/N #(b - a)/N\n",
        "    xpoints = np.linspace(-4,6,N+1) # Equally spaced points from -4, to 6, based on N\n",
        "    for i in xpoints: # Evaluates f at each point, and stores in \"heights\"\n",
        "        y = f.subs(x,i)\n",
        "        heights.append(y)\n",
        "\n",
        "    k=0\n",
        "    A = []\n",
        "    while k <= N-1: # adds the values of f(x) for neighboring x values, and stores into A\n",
        "        adds = heights[k]+heights[k+1]\n",
        "        A.append(adds)\n",
        "        k = k+1\n",
        "\n",
        "\n",
        "    result = sum(A)*deltx/2 # Evaluates the approximate integral, stores into \"R\"\n",
        "    R.append(result)\n",
        "    l = l+1 # iterates for each N value\n",
        "print(R)\n"
      ]
    },
    {
      "cell_type": "code",
      "execution_count": 4,
      "metadata": {},
      "outputs": [
        {
          "data": {
            "image/png": "[encoded data removed]",
            "text/plain": [
              "<Figure size 640x480 with 1 Axes>"
            ]
          },
          "metadata": {},
          "output_type": "display_data"
        }
      ],
      "source": [
        "AbsErr = []\n",
        "j=0\n",
        "while j <len(R): # Computes the absolute error, stores into \"AbsErr\"\n",
        "    g = abs(R[j] - dintf)\n",
        "    AbsErr.append(g)\n",
        "    j = j+1\n",
        "\n",
        "# Plots the absolute errors against corresponding N\n",
        "plt.plot(steps,AbsErr)\n",
        "plt.xlabel('Values of N')\n",
        "plt.ylabel('Absolute Error')\n",
        "plt.scatter(steps,AbsErr, color='red')\n",
        "plt.grid()"
      ]
    },
    {
      "cell_type": "markdown",
      "metadata": {
        "id": "uzMa1xSEwhe3"
      },
      "source": [
        "## 2b. Numerical Differentiation (30 pts)"
      ]
    },
    {
      "cell_type": "markdown",
      "metadata": {
        "id": "FoA2lb0VxDk4"
      },
      "source": [
        "Your tasks:\n",
        "1. Find the closed form expression of $f_{xy}(x,y)$, i.e. $\\frac{d^2}{dxdy}f(x,y)$, for $f(x,y) = \\left(sin^2\\left(x\\right)e^xcos(y)\\right)$ using `sympy`. Output the result.\n",
        "2. Find $f_{xy}(2,3)$ with `sympy` and take 15 significant digits, use it as the \"groud truth solution\". Output the result.\n",
        "3. Approximate $f_{xy}(2,3)$ using central difference approximation for the following values of $h = 0.1, 0.01, 0.001, 0.0001$. Output the results.\n",
        "4. Plot the absolute error (absolute difference between the numerical approximation and the SymPy result) against the step size $h$. `plt.gca().invert_xaxis() ` might help.\n",
        "\n",
        "Recall from the lecture:\n",
        "$$f_{x y}(x, y) \\approx \\frac{f(x+h, y+k)-f(x+h, y-k)-f(x-h, y+k)+f(x-h, y-k)}{4 h k}.$$\n",
        "For simplicity, we set $k = h$."
      ]
    },
    {
      "cell_type": "markdown",
      "metadata": {
        "id": "aCgIDqeLBPjj"
      },
      "source": [
        "## 3. Pandas I (15 pts)"
      ]
    },
    {
      "cell_type": "markdown",
      "metadata": {
        "id": "O1w1avrtBYD5"
      },
      "source": [
        "1. Create a 3x4 (3 rows by 4 columns) pandas DataFrame with the columns named after the following Long Island towns: Hempstead, Babylon, Islip, and Brookhaven. The rows represent 'Population in 2099', 'Population in 2300', 'Population in 2400'. Fill each of the 12 cells in the DataFrame with a random integer from 1000 to 10000, inclusive. `np.random.randint()` might be helpful.\n",
        "For Example:\n",
        "\n",
        "```\n",
        "                    Hempstead  Babylon  Islip  Brookhaven\n",
        "Population in 2099       2931     8043   8414        8661\n",
        "Population in 2300       5444     9227   7393        8007\n",
        "Population in 2400       1660     7977   4730        2940\n",
        "```\n",
        "\n",
        "\n",
        "\n",
        "2. Output the following:\n",
        "  - The entire DataFrame.\n",
        "  - The value in the cell of row #1 (indexing starts with 0) under the Hempstead column.\n",
        "\n",
        "3. Add a new column named Riverhead. Populate this column with the sum of the respective row values from the Islip and Brookhaven columns. Output the entire DataFrame again."
      ]
    },
    {
      "cell_type": "code",
      "execution_count": 5,
      "metadata": {},
      "outputs": [
        {
          "data": {
            "text/html": [
              "<div>\n",
              "<style scoped>\n",
              "    .dataframe tbody tr th:only-of-type {\n",
              "        vertical-align: middle;\n",
              "    }\n",
              "\n",
              "    .dataframe tbody tr th {\n",
              "        vertical-align: top;\n",
              "    }\n",
              "\n",
              "    .dataframe thead th {\n",
              "        text-align: right;\n",
              "    }\n",
              "</style>\n",
              "<table border=\"1\" class=\"dataframe\">\n",
              "  <thead>\n",
              "    <tr style=\"text-align: right;\">\n",
              "      <th></th>\n",
              "      <th>Hempstead</th>\n",
              "      <th>Babylon</th>\n",
              "      <th>Islip</th>\n",
              "      <th>Brookhaven</th>\n",
              "    </tr>\n",
              "  </thead>\n",
              "  <tbody>\n",
              "    <tr>\n",
              "      <th>Population in 2099</th>\n",
              "      <td>5785</td>\n",
              "      <td>8210</td>\n",
              "      <td>8164</td>\n",
              "      <td>7490</td>\n",
              "    </tr>\n",
              "    <tr>\n",
              "      <th>Population in 2300</th>\n",
              "      <td>4801</td>\n",
              "      <td>4093</td>\n",
              "      <td>3009</td>\n",
              "      <td>7251</td>\n",
              "    </tr>\n",
              "    <tr>\n",
              "      <th>Population in 2400</th>\n",
              "      <td>2828</td>\n",
              "      <td>8592</td>\n",
              "      <td>2852</td>\n",
              "      <td>5936</td>\n",
              "    </tr>\n",
              "  </tbody>\n",
              "</table>\n",
              "</div>"
            ],
            "text/plain": [
              "                    Hempstead  Babylon  Islip  Brookhaven\n",
              "Population in 2099       5785     8210   8164        7490\n",
              "Population in 2300       4801     4093   3009        7251\n",
              "Population in 2400       2828     8592   2852        5936"
            ]
          },
          "metadata": {},
          "output_type": "display_data"
        },
        {
          "name": "stdout",
          "output_type": "stream",
          "text": [
            "5785\n"
          ]
        }
      ],
      "source": [
        "import pandas as pd \n",
        "import numpy as np\n",
        "\n",
        "\n",
        "population = []\n",
        "i=1\n",
        "while i <=12: # Creates random populations from 1000 to 10000\n",
        "    x = np.random.randint(1000,10000)\n",
        "    population.append(x)\n",
        "    i = i+1\n",
        "\n",
        "# Assigns each town three populations for each year we are looking at\n",
        "hempstead_pop = population[0:3]\n",
        "babylon_pop = population[3:6]\n",
        "islip_pop = population[6:9]\n",
        "brookhaven_pop = population[9:12]\n",
        "\n",
        "# Creates Data Frame with each town, and their populations for each desired year\n",
        "mydf = pd.DataFrame({'Hempstead':hempstead_pop,\n",
        "                     'Babylon':babylon_pop,\n",
        "                     'Islip':islip_pop,\n",
        "                     'Brookhaven': brookhaven_pop},\n",
        "                      index = ['Population in 2099', 'Population in 2300', 'Population in 2400'])\n",
        "\n",
        "\n",
        "display(mydf)\n",
        "print(mydf.iloc[0,0])"
      ]
    },
    {
      "cell_type": "code",
      "execution_count": 6,
      "metadata": {},
      "outputs": [
        {
          "data": {
            "text/html": [
              "<div>\n",
              "<style scoped>\n",
              "    .dataframe tbody tr th:only-of-type {\n",
              "        vertical-align: middle;\n",
              "    }\n",
              "\n",
              "    .dataframe tbody tr th {\n",
              "        vertical-align: top;\n",
              "    }\n",
              "\n",
              "    .dataframe thead th {\n",
              "        text-align: right;\n",
              "    }\n",
              "</style>\n",
              "<table border=\"1\" class=\"dataframe\">\n",
              "  <thead>\n",
              "    <tr style=\"text-align: right;\">\n",
              "      <th></th>\n",
              "      <th>Hempstead</th>\n",
              "      <th>Babylon</th>\n",
              "      <th>Islip</th>\n",
              "      <th>Brookhaven</th>\n",
              "      <th>Riverhead</th>\n",
              "    </tr>\n",
              "  </thead>\n",
              "  <tbody>\n",
              "    <tr>\n",
              "      <th>Population in 2099</th>\n",
              "      <td>5785</td>\n",
              "      <td>8210</td>\n",
              "      <td>8164</td>\n",
              "      <td>7490</td>\n",
              "      <td>15654</td>\n",
              "    </tr>\n",
              "    <tr>\n",
              "      <th>Population in 2300</th>\n",
              "      <td>4801</td>\n",
              "      <td>4093</td>\n",
              "      <td>3009</td>\n",
              "      <td>7251</td>\n",
              "      <td>10260</td>\n",
              "    </tr>\n",
              "    <tr>\n",
              "      <th>Population in 2400</th>\n",
              "      <td>2828</td>\n",
              "      <td>8592</td>\n",
              "      <td>2852</td>\n",
              "      <td>5936</td>\n",
              "      <td>8788</td>\n",
              "    </tr>\n",
              "  </tbody>\n",
              "</table>\n",
              "</div>"
            ],
            "text/plain": [
              "                    Hempstead  Babylon  Islip  Brookhaven  Riverhead\n",
              "Population in 2099       5785     8210   8164        7490      15654\n",
              "Population in 2300       4801     4093   3009        7251      10260\n",
              "Population in 2400       2828     8592   2852        5936       8788"
            ]
          },
          "metadata": {},
          "output_type": "display_data"
        }
      ],
      "source": [
        "# Takes the original Data Frame, and adjoins a column for Riverhead, with population islip + brookhaven\n",
        "mydf['Riverhead'] = mydf['Islip'] + mydf['Brookhaven']\n",
        "display(mydf)"
      ]
    },
    {
      "cell_type": "markdown",
      "metadata": {
        "id": "WqHDjQC-KLjo"
      },
      "source": [
        "## 4. Pandas II (15 pts)"
      ]
    },
    {
      "cell_type": "markdown",
      "metadata": {
        "id": "w6kHh8BENzHk"
      },
      "source": [
        "0. Download the cvs file that comes with this assignment, and read it into a dataframe. You can also download this [csv file](https://media.githubusercontent.com/media/datablist/sample-csv-files/main/files/customers/customers-100.csv) with this link.\n",
        "1. Arrange the data in alphabetical order based on the last name. Display the first few rows.\n",
        "2. Count the number of customers whose subscription date is in 2021 (2021-01-01 to 2021-12-31). Report this number (e.g. print)."
      ]
    },
    {
      "cell_type": "code",
      "execution_count": 7,
      "metadata": {},
      "outputs": [
        {
          "data": {
            "text/html": [
              "<div>\n",
              "<style scoped>\n",
              "    .dataframe tbody tr th:only-of-type {\n",
              "        vertical-align: middle;\n",
              "    }\n",
              "\n",
              "    .dataframe tbody tr th {\n",
              "        vertical-align: top;\n",
              "    }\n",
              "\n",
              "    .dataframe thead th {\n",
              "        text-align: right;\n",
              "    }\n",
              "</style>\n",
              "<table border=\"1\" class=\"dataframe\">\n",
              "  <thead>\n",
              "    <tr style=\"text-align: right;\">\n",
              "      <th></th>\n",
              "      <th>Index</th>\n",
              "      <th>Customer Id</th>\n",
              "      <th>First Name</th>\n",
              "      <th>Last Name</th>\n",
              "      <th>Company</th>\n",
              "      <th>City</th>\n",
              "      <th>Country</th>\n",
              "      <th>Phone 1</th>\n",
              "      <th>Phone 2</th>\n",
              "      <th>Email</th>\n",
              "      <th>Subscription Date</th>\n",
              "      <th>Website</th>\n",
              "    </tr>\n",
              "  </thead>\n",
              "  <tbody>\n",
              "    <tr>\n",
              "      <th>67</th>\n",
              "      <td>68</td>\n",
              "      <td>a014Ec1b9FccC1E</td>\n",
              "      <td>Tom</td>\n",
              "      <td>Alvarado</td>\n",
              "      <td>Donaldson-Dougherty</td>\n",
              "      <td>South Sophiaberg</td>\n",
              "      <td>Kiribati</td>\n",
              "      <td>(585)606-2980x2258</td>\n",
              "      <td>730-797-3594x5614</td>\n",
              "      <td>nicholsonnina@montgomery.info</td>\n",
              "      <td>2020-08-18</td>\n",
              "      <td>http://odom-massey.com/</td>\n",
              "    </tr>\n",
              "    <tr>\n",
              "      <th>96</th>\n",
              "      <td>97</td>\n",
              "      <td>CeD220bdAaCfaDf</td>\n",
              "      <td>Lynn</td>\n",
              "      <td>Atkinson</td>\n",
              "      <td>Ware, Burns and Oneal</td>\n",
              "      <td>New Bradview</td>\n",
              "      <td>Sri Lanka</td>\n",
              "      <td>+1-846-706-2218</td>\n",
              "      <td>605.413.3198</td>\n",
              "      <td>vkemp@ferrell.com</td>\n",
              "      <td>2021-07-10</td>\n",
              "      <td>https://novak-allison.com/</td>\n",
              "    </tr>\n",
              "    <tr>\n",
              "      <th>92</th>\n",
              "      <td>93</td>\n",
              "      <td>aAb6AFc7AfD0fF3</td>\n",
              "      <td>Collin</td>\n",
              "      <td>Ayers</td>\n",
              "      <td>Lamb-Peterson</td>\n",
              "      <td>South Lonnie</td>\n",
              "      <td>Anguilla</td>\n",
              "      <td>404-645-5351x012</td>\n",
              "      <td>001-257-582-8850x8516</td>\n",
              "      <td>dudleyemily@gonzales.biz</td>\n",
              "      <td>2021-06-29</td>\n",
              "      <td>http://www.ruiz.com/</td>\n",
              "    </tr>\n",
              "    <tr>\n",
              "      <th>0</th>\n",
              "      <td>1</td>\n",
              "      <td>DD37Cf93aecA6Dc</td>\n",
              "      <td>Sheryl</td>\n",
              "      <td>Baxter</td>\n",
              "      <td>Rasmussen Group</td>\n",
              "      <td>East Leonard</td>\n",
              "      <td>Chile</td>\n",
              "      <td>229.077.5154</td>\n",
              "      <td>397.884.0519x718</td>\n",
              "      <td>zunigavanessa@smith.info</td>\n",
              "      <td>2020-08-24</td>\n",
              "      <td>http://www.stephenson.com/</td>\n",
              "    </tr>\n",
              "    <tr>\n",
              "      <th>15</th>\n",
              "      <td>16</td>\n",
              "      <td>8cad0b4CBceaeec</td>\n",
              "      <td>Miranda</td>\n",
              "      <td>Beasley</td>\n",
              "      <td>Singleton and Sons</td>\n",
              "      <td>Desireeshire</td>\n",
              "      <td>Oman</td>\n",
              "      <td>540.085.3135x185</td>\n",
              "      <td>+1-600-462-6432x21881</td>\n",
              "      <td>vduncan@parks-hardy.com</td>\n",
              "      <td>2022-04-12</td>\n",
              "      <td>http://acosta.org/</td>\n",
              "    </tr>\n",
              "  </tbody>\n",
              "</table>\n",
              "</div>"
            ],
            "text/plain": [
              "    Index      Customer Id First Name Last Name                Company  \\\n",
              "67     68  a014Ec1b9FccC1E        Tom  Alvarado    Donaldson-Dougherty   \n",
              "96     97  CeD220bdAaCfaDf       Lynn  Atkinson  Ware, Burns and Oneal   \n",
              "92     93  aAb6AFc7AfD0fF3     Collin     Ayers          Lamb-Peterson   \n",
              "0       1  DD37Cf93aecA6Dc     Sheryl    Baxter        Rasmussen Group   \n",
              "15     16  8cad0b4CBceaeec    Miranda   Beasley     Singleton and Sons   \n",
              "\n",
              "                City    Country             Phone 1                Phone 2  \\\n",
              "67  South Sophiaberg   Kiribati  (585)606-2980x2258      730-797-3594x5614   \n",
              "96      New Bradview  Sri Lanka     +1-846-706-2218           605.413.3198   \n",
              "92      South Lonnie   Anguilla    404-645-5351x012  001-257-582-8850x8516   \n",
              "0       East Leonard      Chile        229.077.5154       397.884.0519x718   \n",
              "15      Desireeshire       Oman    540.085.3135x185  +1-600-462-6432x21881   \n",
              "\n",
              "                            Email Subscription Date  \\\n",
              "67  nicholsonnina@montgomery.info        2020-08-18   \n",
              "96              vkemp@ferrell.com        2021-07-10   \n",
              "92       dudleyemily@gonzales.biz        2021-06-29   \n",
              "0        zunigavanessa@smith.info        2020-08-24   \n",
              "15        vduncan@parks-hardy.com        2022-04-12   \n",
              "\n",
              "                       Website  \n",
              "67     http://odom-massey.com/  \n",
              "96  https://novak-allison.com/  \n",
              "92        http://www.ruiz.com/  \n",
              "0   http://www.stephenson.com/  \n",
              "15          http://acosta.org/  "
            ]
          },
          "metadata": {},
          "output_type": "display_data"
        },
        {
          "name": "stdout",
          "output_type": "stream",
          "text": [
            "# of customers in desired date range: 43\n"
          ]
        }
      ],
      "source": [
        "# Get the data from the csv file\n",
        "df = pd.read_csv('https://media.githubusercontent.com/media/datablist/sample-csv-files/main/files/customers/customers-100.csv')\n",
        "display(df.sort_values('Last Name').head()) # Displays a small amount the whole data frame\n",
        "\n",
        "\n",
        "# Search for customers with desired subscription dates\n",
        "dates = df[(df['Subscription Date'] > '2021-01-01') & (df['Subscription Date']< '2021-12-31')]\n",
        "\n",
        "print('# of customers in desired date range:', dates.shape[0])"
      ]
    },
    {
      "cell_type": "markdown",
      "metadata": {
        "id": "aBpXtK8VvApb"
      },
      "source": [
        "## 5. LU decomposition (50 + 30 pts)\n"
      ]
    },
    {
      "cell_type": "markdown",
      "metadata": {
        "id": "ryafNieevrgZ"
      },
      "source": [
        "Part A (50 points)\n",
        "1. Write a function `LUdecomposition()` that takes as input a matrix $A\\in \\mathbb{R}^{n \\times n}$. Perform Gaussian Elimination to have this function return two matrices $L$ and $U$ such that $A=LU$.\n",
        "2. Your function should raise any relevant errors, for example, raise an error if a pure LU decomposition does not exist for $A$ (meaning that you have to perform pivoting, i.e., permutation of rows).\n",
        "3. Create several random matrices for the purpose of testing your function. Obtain the $L$ and $U$ matrices, and for each random matrix obtain its L and U matrices and perform a matrix multiplication (`np.matmul()`) to determine whether the outcome closely resembles the original matrix $A$, allowing for slight differences attributable to precision errors.\n",
        "\n",
        "\n",
        "Note: LU decomposition with Gaussian elimination should be covered in your undergraduate linear algebra class. It is also covered in AMS 510. If you do not know how, this 10 minute [video](https://www.youtube.com/watch?v=UlWcofkUDDU&ab_channel=Mathispower4u) explains it very well.\n",
        "\n",
        "Part B (30 bonus points)\n",
        "4. Not all square matrices have a pure LU decomposition. However, PLU decomposition always exists. Write another function `pivoting()` that takes as input a matrix $A$ and return the permutation/pivoting matrix $P$ such that $PA$ always has a pure LU decomposition.\n",
        "5. Find an example $A$ for which `LUdecomposition()` raises an error. Then, use `pivoting()` to find $P$, and find the pure LU decomposition of $PA$. Verify that indeed $PA = LU$ with matrix multiplication (`np.matmul()`).\n",
        "\n",
        "\n",
        "Hint: Please do not print out a giant matrix and visually examine the outcomes. Think of a way to verify your results and output a boolean value.\n"
      ]
    },
    {
      "cell_type": "markdown",
      "metadata": {
        "id": "QlP_giLsQRPM"
      },
      "source": [
        "Fact: LU and PLU decompositions are not unique."
      ]
    },
    {
      "cell_type": "code",
      "execution_count": 8,
      "metadata": {},
      "outputs": [
        {
          "name": "stdout",
          "output_type": "stream",
          "text": [
            "Are all values of matrix entry, compared to LU, within 1e-5?:\n",
            "True\n",
            "Are all values of matrix entry, compared to LU, within 1e-5?:\n",
            "True\n",
            "Are all values of matrix entry, compared to LU, within 1e-5?:\n",
            "True\n"
          ]
        },
        {
          "data": {
            "text/plain": [
              "{None}"
            ]
          },
          "execution_count": 8,
          "metadata": {},
          "output_type": "execute_result"
        }
      ],
      "source": [
        "\n",
        "A = np.random.rand(3, 3)\n",
        "B = np.random.rand(5, 5)\n",
        "C = np.random.rand(10, 10)\n",
        "\n",
        "def LUdecomposition(A):\n",
        "  L = np.eye(len(A)) # Creates identity matrix of dimensions from A, L\n",
        "  U = A.copy() # Makes a copy of A, U\n",
        "\n",
        "  # A has no LU decomposition if:\n",
        "  # Any of it's sub-square-matrices including the top left corner have det=0\n",
        "  # It's top left entry is 0\n",
        "\n",
        "  if U[0,0] == 0:\n",
        "    return print('LU decomposition does not exist')\n",
        "  for n in range(0,len(A)):\n",
        "    if np.linalg.det(U[0:n,0:n]) == 0:\n",
        "      return print('LU decomposition does not exist')\n",
        "\n",
        "  # Do Gaussian elimination to make an upper triangular, U, and store the factors to get a lower triangular, L\n",
        "  j=0\n",
        "  while j < len(A):\n",
        "    for i in range(j+1,len(A)):\n",
        "      factor = U[i,j]/U[j,j]\n",
        "      L[i,j]= factor\n",
        "      for k in range(0,len(A)):\n",
        "        U[i,k] = U[i,k] - (factor * U[j,k]) \n",
        "    j = j+1\n",
        "\n",
        "  # Compute the differences from original matrix, to the matrix LU\n",
        "\n",
        "  LU = np.matmul(L,U)\n",
        "  n = (len(LU), len(LU))\n",
        "  differences = np.zeros(n)\n",
        "  j = 0\n",
        "  while j < len(LU):\n",
        "    for i in range(0,len(LU)):\n",
        "      differences[i,j] = abs(LU[i,j]-A[i,j])\n",
        "    j = j+1\n",
        "\n",
        "\n",
        "  # Check if the differences are \"close enough,\" less than 1e-5\n",
        "  return{  print('Are all values of matrix entry, compared to LU, within 1e-5?:'),\n",
        "           print(np.all(differences <= 1e-5))\n",
        "        }\n",
        "\n",
        "\n",
        "LUdecomposition(A)\n",
        "LUdecomposition(B)\n",
        "LUdecomposition(C)\n",
        "\n",
        "\n",
        "\n",
        "\n",
        "# For the bonus, a matrix that doesn't have an LU decompositon is, for example, any matrix with 0 in the upper left corner."
      ]
    },
    {
      "cell_type": "markdown",
      "metadata": {
        "id": "X_4ITuoU53KF"
      },
      "source": [
        "## 6. Markov Chain (30 pts)"
      ]
    },
    {
      "cell_type": "markdown",
      "metadata": {
        "id": "X2-wBoxIWLQs"
      },
      "source": [
        "**BACKGROUND:** Consider a Markov chain transition matrix $P$ on a set of $n$ states, where $P_{i j}$ corresponds to the probability $\\left(0 \\leq P_{i j} \\leq 1\\right)$ to go from state $i$ to the state $j$, and each row is normalized so that\n",
        "$$\n",
        "\\sum_{j=1}^n P_{i j}=1 .\n",
        "$$\n",
        "\n",
        "Let $p$ be a size- $n$ vector composed of the probability distribution over the $n$ states, where\n",
        "$$\n",
        "\\sum_{j=1}^n p_j=1 .\n",
        "$$\n",
        "\n",
        "The transition rule corresponding to the transition matrix $P$ is $\\hat{p}=P^T p$, where $\\hat{p}$ corresponds to a new probability distribution and\n",
        "$$\n",
        "\\sum_{j=1}^n \\hat{p}_j=1 .\n",
        "$$\n",
        "TASK: Write a program that works with 5 states `only use the numpy library`. In particular,\n",
        "0. Fix the random seed to be the last digit of your id: `numpy.random.seed()`.\n",
        "\n",
        "1. Construct a random $5 \\times 5$ matrix $P$, and normalize each row so that\n",
        "$$\n",
        "\\sum_{j=1}^5 P_{i j}=1 .\n",
        "$$\n",
        "\n",
        "2. Construct a random size-5 vector $p$ and normalize it so that\n",
        "$$\n",
        "\\sum_{j=1}^5 p_j=1 .\n",
        "$$\n",
        "Apply the transition rule 50 times to obtain $p_{50}$.\n",
        "3. Compute the eigenvector $v$ of $P^T$ corresponding to the eigenvalue 1 (and numerically, the eigenvalue closest to $1)$, and then scale the eigenvector so that\n",
        "$$\n",
        "\\sum_{j=1}^5 v_j=1 .\n",
        "$$\n",
        "This scaled eigenvector is known as the stationary distribution.\n",
        "\n",
        "4. Compute the component wise difference between $p_{50}$ and the stationary distribution. Do they match with each other within $1 \\mathrm{e}-5$ ?\n",
        "\n",
        "HINTS: You may find the following functions useful in your implementation:\n",
        "- np.random.rand\n",
        "- np.dot\n",
        "- np.linalg.eig"
      ]
    },
    {
      "cell_type": "code",
      "execution_count": 11,
      "metadata": {},
      "outputs": [
        {
          "name": "stdout",
          "output_type": "stream",
          "text": [
            "All differences are within 1e-5? \n"
          ]
        },
        {
          "name": "stderr",
          "output_type": "stream",
          "text": [
            "/var/folders/5r/mry45nq14jl1lk1my6jwpt340000gn/T/ipykernel_48969/2660851440.py:35: DeprecationWarning: Conversion of an array with ndim > 0 to a scalar is deprecated, and will error in future. Ensure you extract a single element from your array before performing this operation. (Deprecated NumPy 1.25.)\n",
            "  diffs[x] = abs(pcol[x]- v[x])\n"
          ]
        },
        {
          "data": {
            "text/plain": [
              "False"
            ]
          },
          "execution_count": 11,
          "metadata": {},
          "output_type": "execute_result"
        }
      ],
      "source": [
        "import numpy as np\n",
        "np.random.seed(4)\n",
        "\n",
        "# Construct random 5x5 matrix P, and normalize row-wise so sum is 1\n",
        "P = np.random.rand(5,5)\n",
        "Norms = np.abs(P).sum(axis=1)\n",
        "\n",
        "for k in range(0,len(P)):\n",
        "    P[k] = P[k]/Norms[k]\n",
        "\n",
        "# Construct 1x5 vector p, and normalize so sum is 1\n",
        "p = np.random.rand(1,5)\n",
        "Normp = np.abs(p).sum(axis=1)\n",
        "p = p/Normp[0]\n",
        "\n",
        "# Write p as a column vector, transpose P as per the equation above\n",
        "pcol = np.transpose(p)\n",
        "Pt= np.transpose(P)\n",
        "\n",
        "# Iterate to get p50\n",
        "for x in range(0,50):\n",
        "    pcol= np.dot(Pt,pcol)\n",
        "\n",
        "# Find Eigenvalues/vectors using numpy\n",
        "eigenvalues, eigenvectors = np.linalg.eig(P)\n",
        "\n",
        "# Extract eigenvector corresponding to eigenvalue = 1. Then, normalize\n",
        "v = eigenvectors[0:5,0]\n",
        "Normv = np.abs(v).sum(axis=0)\n",
        "v = v/Normv\n",
        "\n",
        "# Computes the component wise difference, stores it into \"diffs\"\n",
        "diffs = np.zeros(5)\n",
        "for x in range(0,5):\n",
        "    diffs[x] = abs(pcol[x]- v[x])\n",
        "\n",
        "# Checks if each of these differences is less than 1e-5\n",
        "print('All differences are within 1e-5? ')\n",
        "np.all(diffs <= 1e-5)\n"
      ]
    },
    {
      "cell_type": "code",
      "execution_count": null,
      "metadata": {},
      "outputs": [],
      "source": []
    }
  ],
  "metadata": {
    "accelerator": "GPU",
    "anaconda-cloud": {},
    "colab": {
      "collapsed_sections": [
        "KR0Fl4yAQYad",
        "U5SL2j0sqnAJ",
        "29VDnBBE5pUV",
        "uzMa1xSEwhe3",
        "YCD9beX75Yp7",
        "aCgIDqeLBPjj",
        "WqHDjQC-KLjo",
        "wzeYQOW0OCH3",
        "X_4ITuoU53KF",
        "yoMb8G9jXWcu"
      ],
      "gpuType": "T4",
      "provenance": []
    },
    "kernelspec": {
      "display_name": "Python 3",
      "name": "python3"
    },
    "language_info": {
      "codemirror_mode": {
        "name": "ipython",
        "version": 3
      },
      "file_extension": ".py",
      "mimetype": "text/x-python",
      "name": "python",
      "nbconvert_exporter": "python",
      "pygments_lexer": "ipython3",
      "version": "3.11.6"
    }
  },
  "nbformat": 4,
  "nbformat_minor": 0
}
