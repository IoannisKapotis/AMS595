{
 "cells": [
  {
   "cell_type": "code",
   "execution_count": 27,
   "id": "cde1e67d-7a07-4ec6-bf64-948acc1cb9c5",
   "metadata": {},
   "outputs": [],
   "source": [
    "import numpy as np\n",
    "import h5py\n",
    "import matplotlib.pyplot as plt\n",
    "from PIL import Image\n",
    "\n",
    "test_data = h5py.File('/Users/mikeykapotis/Desktop/test_catvnoncat.h5', \"r\")\n",
    "train_data = h5py.File('/Users/mikeykapotis/Desktop/train_catvnoncat.h5', \"r\")\n",
    "\n",
    "#print(train_data.keys())\n",
    "#print(train_data['train_set_x'])\n",
    "#print(train_data['train_set_y'])\n",
    "#print(train_data['list_classes'])\n",
    "\n"
   ]
  },
  {
   "cell_type": "code",
   "execution_count": 28,
   "id": "f445269f-1758-4263-b815-533b55eb8978",
   "metadata": {
    "scrolled": true
   },
   "outputs": [
    {
     "name": "stdout",
     "output_type": "stream",
     "text": [
      "(209, 64, 64, 3)\n",
      "(209,)\n",
      "(2,)\n",
      "[b'non-cat' b'cat']\n",
      "(1, 209)\n"
     ]
    }
   ],
   "source": [
    "train_X = np.array(train_data['train_set_x'][:])\n",
    "train_Y = np.array(train_data['train_set_y'][:])\n",
    "test_X = np.array(test_data['test_set_y'][:])\n",
    "test_Y = np.array(test_data['test_set_y'][:])\n",
    "classes= np.array(test_data['list_classes'][:])\n",
    "\n",
    "print(train_X.shape)\n",
    "print(train_Y.shape)\n",
    "print(classes.shape)\n",
    "print(classes)\n",
    "\n",
    "train_Y = train_Y.reshape((1, train_Y.shape[0]))\n",
    "test_Y = test_Y.reshape((1, test_Y.shape[0]))\n",
    "print(train_Y.shape)"
   ]
  },
  {
   "cell_type": "code",
   "execution_count": null,
   "id": "237af150-f3bd-4dbf-9dc9-d9a9f4233d87",
   "metadata": {},
   "outputs": [],
   "source": [
    "'''\n",
    "I really am not sure how to proceed on this question. I believe I should use logistic regression here\n",
    "to get the probabilities, but I am not comfortable enough with this type of data to wrap my head\n",
    "around it and haven't been able to get it to work. Sorry about this. \n",
    "'''"
   ]
  },
  {
   "cell_type": "code",
   "execution_count": 42,
   "id": "a3ac8215-bfb4-478b-98bb-70f2380936ed",
   "metadata": {},
   "outputs": [],
   "source": [
    "''' I believe we would modify the sets like we did in the other problem: '''\n",
    "train_X, test_X = train_X[:164], test_X[164:]\n",
    "train_Y, test_Y = train_Y[:164], test_Y[164:]"
   ]
  },
  {
   "cell_type": "code",
   "execution_count": null,
   "id": "77669f2f-853d-41f0-8db6-b56a81755e48",
   "metadata": {},
   "outputs": [],
   "source": []
  }
 ],
 "metadata": {
  "kernelspec": {
   "display_name": "Python 3 (ipykernel)",
   "language": "python",
   "name": "python3"
  },
  "language_info": {
   "codemirror_mode": {
    "name": "ipython",
    "version": 3
   },
   "file_extension": ".py",
   "mimetype": "text/x-python",
   "name": "python",
   "nbconvert_exporter": "python",
   "pygments_lexer": "ipython3",
   "version": "3.11.5"
  }
 },
 "nbformat": 4,
 "nbformat_minor": 5
}
