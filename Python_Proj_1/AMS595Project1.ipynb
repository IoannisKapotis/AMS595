{
 "cells": [
  {
   "cell_type": "markdown",
   "metadata": {
    "id": "xq__bChjD04e"
   },
   "source": [
    "# Python Assignment 1"
   ]
  },
  {
   "cell_type": "markdown",
   "metadata": {
    "id": "y7j2V0UDMYLG"
   },
   "source": [
    "⏱⏱⏱**Due: 10/03/2023 11:59 PM** ⏱⏱⏱\n",
    "\n",
    "Submit this notebook file and upload it to your git repo. Include a link to your git repo while submitting this file to Brightspace.\n",
    "\n",
    "You are not allowed to use chatgpt or any LLM in this assignment.\n",
    "Cooperation is allowed and encouraged; however, you must write up and submit your own work. If you cooperate with others, you must list their names here."
   ]
  },
  {
   "cell_type": "markdown",
   "metadata": {
    "id": "SUS30Ew9D04n"
   },
   "source": [
    "(100 points total)"
   ]
  },
  {
   "cell_type": "markdown",
   "metadata": {
    "id": "b_bgT3b2GYTB"
   },
   "source": [
    "## 0. Data Types, Structures, Indexing, and Slicing"
   ]
  },
  {
   "cell_type": "markdown",
   "metadata": {
    "id": "6yI1Jt57IwV2"
   },
   "source": [
    "Read the lecutre note as well as [this page](https://www.geeksforgeeks.org/mutable-vs-immutable-objects-in-python/) and [this page](https://www.geeksforgeeks.org/difference-between-shallow-and-deep-copy-of-a-class/). Complete the following questions.\n",
    "\n",
    "(5 points) Give some examples (at least 2) of mutable objects in Python.\n",
    "\n",
    "***Answer:***\n",
    "One example of a mutable object is a list, and another is a set. Mutable means able to be mutated after creation.\n",
    "\n",
    "---\n",
    "\n",
    "\n",
    "\n",
    "(5 points) Give some examples (at least 2) of immutable objects in Python.\n",
    "\n",
    "***Answer:***\n",
    "One example of an immutable object is a string, and another is a tuple. Immutable means not mutatable after creation, so if you try to alter it, for example, changing the 0th spot of a tuple to a different value, you will get an error. For a string, if you alter it, it will create a new string as opposed to mutating the original. \n",
    "\n",
    "---\n",
    "\n",
    "\n",
    "\n",
    "(10 points) State the differences between assignment, shallow copy, and deep copy. Any reasonable answer will get full credit.\n",
    "\n",
    "***Answer:***\n",
    "Assignment is done using the '=' sign. For example, if ages = [22,40,33] and you write, numbers = ages, this doesn't make a copy of anything, it just makes numbers and ages point to the same list, [22,40,33]. A shallow copy makes an actual copy of an object, as opposed to assignment. Using the same example, if ages = [22,40,33], and you make a shallow copy, numbers = ages.copy(), you can alter numbers, and the changes will not affect ages. However, the caveat which makes it differ from a deep copy is, if the list you are working with is a 'compound object,' i.e., a list of lists, and you alter the copy you made, it will indeed alter the original list. All in all, altering a shallow copy of immutable elements will have no effect on the original list, but if the elements are mutable, then the original list will indeed be altered.\n",
    "\n",
    "---\n",
    "\n",
    "\n",
    "\n"
   ]
  },
  {
   "cell_type": "markdown",
   "metadata": {
    "id": "OA8DxcrrGqZD"
   },
   "source": [
    "(10 points) Using string methods find() and rfind(), find the index of the first digit (i.e. 0) and the index of the last digit (5) in the string below. Then, using string slicing, extract the number (i.e. 0.595595) from this string and convert the extracted value to a floating point number. Print out this float to the console."
   ]
  },
  {
   "cell_type": "code",
   "execution_count": 39,
   "metadata": {
    "id": "AUuFXXWqG4D3"
   },
   "outputs": [
    {
     "name": "stdout",
     "output_type": "stream",
     "text": [
      "0.59559\n"
     ]
    }
   ],
   "source": [
    "text = \"F-DGFDDSFGFD-CFDSHdstgfdfe: tfsd  aaa bdsf 0.595595 fdsgfdbc\";\n",
    "x = text.find('0')\n",
    "y = text.rfind('5')\n",
    "z = slice(x,y,1)\n",
    "print(float(text[z]))"
   ]
  },
  {
   "cell_type": "markdown",
   "metadata": {
    "id": "cnCljYgpD04p"
   },
   "source": [
    "## 1. Conditional Statements\n",
    "\n",
    "(10 points)\n",
    "Translate the following MATLAB code into Python using `if-elif-else`.\n",
    "```\n",
    "n = input('Enter a number: ');\n",
    "\n",
    "switch n\n",
    "    case -1\n",
    "        disp('negative one')\n",
    "    case 0\n",
    "        disp('zero')\n",
    "    case 1\n",
    "        disp('positive one')\n",
    "    otherwise\n",
    "        disp('other value')\n",
    "end\n",
    "```"
   ]
  },
  {
   "cell_type": "code",
   "execution_count": 41,
   "metadata": {
    "id": "9d8vl5zjD04q"
   },
   "outputs": [
    {
     "name": "stdin",
     "output_type": "stream",
     "text": [
      "Enter a number:  4\n"
     ]
    },
    {
     "name": "stdout",
     "output_type": "stream",
     "text": [
      "other value\n"
     ]
    }
   ],
   "source": [
    "n = float(input('Enter a number: ')) \n",
    "\n",
    "if n == -1:\n",
    "    print('negative one')\n",
    "elif n == 0:\n",
    "    print('zero')\n",
    "elif n == 1:\n",
    "    print('positive one')\n",
    "else:\n",
    "    print('other value')"
   ]
  },
  {
   "cell_type": "markdown",
   "metadata": {
    "id": "sW9XiUPpD04s"
   },
   "source": [
    "## 2. While Loops\n",
    "\n",
    "(10 points) Write a Python program that calculates the factorial of a given number (you can assume an positive integer) using a while loop. Display the result to the console."
   ]
  },
  {
   "cell_type": "code",
   "execution_count": 46,
   "metadata": {
    "colab": {
     "base_uri": "https://localhost:8080/"
    },
    "id": "CRCERx8uD04t",
    "outputId": "1870b9d1-fe04-4ae7-e5ec-08ce640ce72e"
   },
   "outputs": [
    {
     "name": "stdin",
     "output_type": "stream",
     "text": [
      "Enter n, a positive integer, to evaluate n!  :  5\n"
     ]
    },
    {
     "name": "stdout",
     "output_type": "stream",
     "text": [
      "120\n"
     ]
    }
   ],
   "source": [
    "n = int(input('Enter n, a positive integer, to evaluate n!  : '))\n",
    "\n",
    "if n <= 0:\n",
    "    print('please only enter positive integer values')\n",
    "else:\n",
    "    i = 0\n",
    "    numbers = []\n",
    "    while i < n: # Computes all (n),(n-1),(n-2)...(n-(n-1)) factors to be multiplied\n",
    "        x = (n-i)\n",
    "        numbers.insert(i,x) # 0th spot = n, 1st spot = n-1, ...\n",
    "        i = i + 1\n",
    "    product = 1\n",
    "    for x in numbers:\n",
    "        product = x * product # Computes the product of all n, n-1, ...\n",
    "    print(product)\n",
    "\n",
    "# test cases\n",
    "# n = 17, Output: 355687428096000\n",
    "# n = 13, Output: 6227020800"
   ]
  },
  {
   "cell_type": "markdown",
   "metadata": {
    "id": "ZQ5SVMq6D04w"
   },
   "source": [
    "## 3. Functions\n",
    "\n",
    "(10 points) Write a function that determines if a number is prime."
   ]
  },
  {
   "cell_type": "code",
   "execution_count": 1,
   "metadata": {
    "colab": {
     "base_uri": "https://localhost:8080/"
    },
    "id": "6rGP5G3_D04x",
    "outputId": "00df2d17-b697-4146-968f-be4fa7cc3ba3"
   },
   "outputs": [
    {
     "name": "stdout",
     "output_type": "stream",
     "text": [
      "True\n",
      "False\n",
      "True\n"
     ]
    }
   ],
   "source": [
    "def is_prime(n):    \n",
    "    x = int(n) # Take n as an integer, x\n",
    "    if x <=0:\n",
    "        return 'Positive integers only please'\n",
    "    elif x == 1:\n",
    "        return False \n",
    "    else:\n",
    "        i = 2\n",
    "        while i <= x/2: # Only need to check up until half of n, as nothing bigger can be a factor\n",
    "            r = x % i # Computes n modulo i; if =0, i divides n and n is not prime\n",
    "            if r != 0:\n",
    "                i = i + 1\n",
    "            else:\n",
    "                return False               \n",
    "        return True # No number was a factor, so it is prime\n",
    "\n",
    "# test cases\n",
    "print(is_prime(2))      # Output: True\n",
    "print(is_prime(10))     # Output: False\n",
    "print(is_prime(17))     # Output: True"
   ]
  },
  {
   "cell_type": "markdown",
   "metadata": {
    "id": "Z6qg-fpQD04u"
   },
   "source": [
    "## 4. List Comprehension\n",
    "\n",
    "(10 points) Write a Python function called `prime_factors` that takes a relatively small integer as input and returns a list of its distinct prime factors. The function should use list comprehension to generate the list of distinct prime factors. You may use the function is_prime() defined in Q3.\n"
   ]
  },
  {
   "cell_type": "code",
   "execution_count": 76,
   "metadata": {
    "colab": {
     "base_uri": "https://localhost:8080/"
    },
    "id": "2hSCjYlOD04v",
    "outputId": "1024d2e2-7d24-4e65-9529-e5a82d2a3211"
   },
   "outputs": [
    {
     "name": "stdout",
     "output_type": "stream",
     "text": [
      "[2, 3, 5]\n",
      "[2, 7]\n",
      "[2, 3, 11]\n",
      "[2, 29]\n"
     ]
    }
   ],
   "source": [
    "def prime_factors(n):\n",
    "    factors = []\n",
    "    if is_prime(n) == True: # If its prime, the only factor is itself (and 1, but excluded)\n",
    "        factors = [n]\n",
    "        return factors\n",
    "    else: # Find the prime divisors \n",
    "        i = 2\n",
    "        x = int(n)\n",
    "        while i <= x/2: # As before, only need to check until half of n\n",
    "            r = x % i # Check if i divides n\n",
    "            if r == 0 and is_prime(i) == True: #if it divides AND it itself is prime, then store it\n",
    "                factors.append(i) # Creates list of prime factors\n",
    "            i = i+1\n",
    "        \n",
    "    return factors\n",
    "\n",
    "\n",
    "# test cases\n",
    "print(prime_factors(30))  # Output: [2, 3, 5]\n",
    "print(prime_factors(56))  # Output: [2, 7]\n",
    "print(prime_factors(198))  # Output: [2, 3, 11]\n",
    "print(prime_factors(464))  # Output: [2, 29]"
   ]
  },
  {
   "cell_type": "markdown",
   "metadata": {
    "id": "dw4kZZCiD040"
   },
   "source": [
    "## 5. Recursive Functions\n",
    "(25 points) Write a function that uses recursion to generate the $n$th row of the Pascal's triangle.\n",
    "```\n",
    "              1\n",
    "           1     1\n",
    "        1     2     1\n",
    "      1    3     3     1\n",
    "   1    4     6     4    1\n",
    "1     5    10    10    5    1\n",
    "...\n",
    "...\n",
    "...\n",
    "```"
   ]
  },
  {
   "cell_type": "code",
   "execution_count": 8,
   "metadata": {
    "colab": {
     "base_uri": "https://localhost:8080/"
    },
    "id": "V8QFB_gKD040",
    "outputId": "4946dc49-2061-4057-e65d-9f48af44dac9"
   },
   "outputs": [
    {
     "name": "stdout",
     "output_type": "stream",
     "text": [
      "[1, 5, 10, 10, 5, 1]\n"
     ]
    }
   ],
   "source": [
    "# Pascal's triangle, in its pyramidal form, has the property where the perimeter diagonals\n",
    "# are all 1, and every entry on the inside is the sum of the two diagonal entries above it.\n",
    "# For example, in the third row, second entry, 3 is 1+2.\n",
    "# This recursive code calculates all previous rows to find the one desired, doing the same method explained above\n",
    "\n",
    "\n",
    "def pascal(n):\n",
    "    if n == 1: #To work recursively we need the initial condition, so let row 1 just be [1]\n",
    "        return [1]\n",
    "    else:\n",
    "        row = [1] # Every row begins with 1, so we'll concatenate onto this one\n",
    "        rowb4 = pascal(n-1) # Depending on n, we recursively go back all the way to n=1, and build up\n",
    "        l = len(rowb4)\n",
    "        for i in range(l-1): # From 0th to l-1th entry\n",
    "            row.append(rowb4[i] + rowb4[i+1]) # Concatenates onto [1], and adds the two diagonal entries above\n",
    "        row = row + [1] # Concatenates the end 1 to the row\n",
    "    return row\n",
    "\n",
    "\n",
    "\n",
    "# test case\n",
    "print(pascal(6))  # output [1, 5, 10, 10, 5, 1]"
   ]
  },
  {
   "cell_type": "markdown",
   "metadata": {
    "id": "eZytgm0qD041"
   },
   "source": [
    "Rewrite the above function using only `while` or `for` loops instead of recursion."
   ]
  },
  {
   "cell_type": "code",
   "execution_count": 38,
   "metadata": {
    "colab": {
     "base_uri": "https://localhost:8080/"
    },
    "id": "UZ8f-akaD041",
    "outputId": "68ec5672-a40f-493f-e725-68b7471e76bc"
   },
   "outputs": [
    {
     "name": "stdout",
     "output_type": "stream",
     "text": [
      "[1, 5, 10, 10, 5, 1]\n"
     ]
    }
   ],
   "source": [
    "def pascal_by_loops(n):\n",
    "    if n == 1: # n=1 case\n",
    "        return [1]\n",
    "    elif n == 2: # n=2 case\n",
    "        return [1,1]\n",
    "    else: # If n>2, we will compute each row leading up to n\n",
    "        rows = [[1], [1,1]] # Keeps track of rows computed\n",
    "        while len(rows) < n:\n",
    "            rowb4 = rows[-1] # Grabs the last entry (furthest right) from rows\n",
    "            row = [1] # Every row starts with 1, so we can concatenate with this one\n",
    "            for i in range(len(rowb4)-1): \n",
    "                row.append(rowb4[i] + rowb4[i+1]) # Calculates sum of diagonal entries in row above\n",
    "            row = row +[1] # \"Closes\" the row with 1\n",
    "            rows.append(row) # Adds our nth row to our list of rows\n",
    "        return rows[-1] # Grabs the last row we calculated \n",
    "\n",
    "\n",
    "# test case \n",
    "print(pascal_by_loops(6)) "
   ]
  },
  {
   "cell_type": "markdown",
   "metadata": {
    "id": "HvHD6QHzVo9I"
   },
   "source": [
    "\n",
    "\n",
    "---\n",
    "\n",
    "\n",
    "（5 points) good coding practice and properly submitting your work to GitHub."
   ]
  }
 ],
 "metadata": {
  "anaconda-cloud": {},
  "colab": {
   "provenance": []
  },
  "kernelspec": {
   "display_name": "Python 3 (ipykernel)",
   "language": "python",
   "name": "python3"
  },
  "language_info": {
   "codemirror_mode": {
    "name": "ipython",
    "version": 3
   },
   "file_extension": ".py",
   "mimetype": "text/x-python",
   "name": "python",
   "nbconvert_exporter": "python",
   "pygments_lexer": "ipython3",
   "version": "3.11.5"
  }
 },
 "nbformat": 4,
 "nbformat_minor": 4
}
